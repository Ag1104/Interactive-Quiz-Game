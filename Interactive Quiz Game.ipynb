{
 "cells": [
  {
   "cell_type": "code",
   "execution_count": 1,
   "id": "525e1f4e",
   "metadata": {},
   "outputs": [
    {
     "name": "stdout",
     "output_type": "stream",
     "text": [
      "Q1:What is the capital of France?\n",
      "(a)Paris (b)Swizz (c)India\n",
      "\n",
      "Enter correct answer: a\n",
      "Correct!\n",
      "Q2:Which planet is closer to the sun?\n",
      "(a)Mars (b)Earth (c)Mercury??\n",
      "\n",
      "Enter correct answer: c\n",
      "Correct!\n",
      "Q3:What is the largest mammal in the world?\n",
      "(a)Shark (b)Blue Whale (c)Lion?\n",
      "\n",
      "Enter correct answer: c\n",
      "Sorry! The correct answer is b\n",
      "Q4:Who is the President of Nigeria?\n",
      "(a)Bola Ahmed Tinubu (b)Ahmed Tinubu Bola (c)Tinubu Ahmed Bola\n",
      "\n",
      "Enter correct answer: a\n",
      "Correct!\n",
      "Q5:What is the square root of 64?\n",
      "(a)8 (b)7 (c)9\n",
      "\n",
      "Enter correct answer: a\n",
      "Correct!\n",
      "Q6:What is the name of the vice chancellor of Unilag?\n",
      "(a)Professor Ogundipe (b)Professor Folasade (c)Professor Mumuni\n",
      "\n",
      "Enter correct answer: b\n",
      "Correct!\n",
      "Q7:Which country won the last world cup?\n",
      "(a)France (b)Argentina (c)India\n",
      "\n",
      "Enter correct answer: b\n",
      "Correct!\n",
      "Q8:Who won the 2023 Balon d'Or?\n",
      "(a)Halaand (b)Mbappe (c)Messi?\n",
      "\n",
      "Enter correct answer: a\n",
      "Sorry! The correct answer is c\n",
      "Q9:What is the name of the financial secratary of NUESA-UNILAG?\n",
      "(a)Wale (b)Gideon (c)Moyo?\n",
      "\n",
      "Enter correct answer: b\n",
      "Correct!\n",
      "Q10:What is the name of NITPY 2.2 tutor?\n",
      "(a)Kingsley (b)Wasiu (c)Tade?\n",
      "\n",
      "Enter correct answer: a\n",
      "Correct!\n",
      "\n",
      "Quiz Completed\n",
      "Your Final Score is 8/10\n"
     ]
    }
   ],
   "source": [
    "quiz_questions = {\n",
    "        \"What is the capital of France?\\n(a)Paris (b)Swizz (c)India\": \"a\",\n",
    "        \"Which planet is closer to the sun?\\n(a)Mars (b)Earth (c)Mercury??\": \"c\",\n",
    "        \"What is the largest mammal in the world?\\n(a)Shark (b)Blue Whale (c)Lion?\": \"b\",\n",
    "        \"Who is the President of Nigeria?\\n(a)Bola Ahmed Tinubu (b)Ahmed Tinubu Bola (c)Tinubu Ahmed Bola\": \"a\",\n",
    "        \"What is the square root of 64?\\n(a)8 (b)7 (c)9\": \"a\",\n",
    "        \"What is the name of the vice chancellor of Unilag?\\n(a)Professor Ogundipe (b)Professor Folasade (c)Professor Mumuni\": \"b\",\n",
    "        \"Which country won the last world cup?\\n(a)France (b)Argentina (c)India\": \"b\",\n",
    "        \"Who won the 2023 Balon d'Or?\\n(a)Halaand (b)Mbappe (c)Messi?\": \"c\",\n",
    "        \"What is the name of the financial secratary of NUESA-UNILAG?\\n(a)Wale (b)Gideon (c)Moyo?\": \"b\",\n",
    "        \"What is the name of NITPY 2.2 tutor?\\n(a)Kingsley (b)Wasiu (c)Tade?\": \"a\"\n",
    "    }\n",
    "score = 0\n",
    "question_number =1\n",
    "for questions, correct_answer in quiz_questions.items():\n",
    "    print(f\"Q{question_number}:{questions}\\n\")\n",
    "    question_number+=1\n",
    "    \n",
    "    user_answer = input(\"Enter correct answer: \").casefold()\n",
    "    if user_answer == correct_answer.casefold():\n",
    "        print(\"Correct!\")\n",
    "        score +=1\n",
    "    else:\n",
    "        print(f\"Sorry! The correct answer is {correct_answer}\")\n",
    "        \n",
    "print(\"\\nQuiz Completed\")\n",
    "print(f\"Your Final Score is {score}/{len(quiz_questions)}\")"
   ]
  },
  {
   "cell_type": "code",
   "execution_count": null,
   "id": "f66d38d7",
   "metadata": {},
   "outputs": [],
   "source": []
  }
 ],
 "metadata": {
  "kernelspec": {
   "display_name": "Python 3 (ipykernel)",
   "language": "python",
   "name": "python3"
  },
  "language_info": {
   "codemirror_mode": {
    "name": "ipython",
    "version": 3
   },
   "file_extension": ".py",
   "mimetype": "text/x-python",
   "name": "python",
   "nbconvert_exporter": "python",
   "pygments_lexer": "ipython3",
   "version": "3.11.5"
  }
 },
 "nbformat": 4,
 "nbformat_minor": 5
}
